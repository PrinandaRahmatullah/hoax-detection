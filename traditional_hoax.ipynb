{
 "cells": [
  {
   "cell_type": "markdown",
   "id": "243fa0a9",
   "metadata": {},
   "source": [
    "# Hoax Detection Using Traditional Machine Learning\n",
    "## Dataset from Satria Data 2020 - Big Data Challenge"
   ]
  },
  {
   "cell_type": "code",
   "execution_count": 62,
   "id": "sporting-industry",
   "metadata": {},
   "outputs": [
    {
     "name": "stderr",
     "output_type": "stream",
     "text": [
      "[nltk_data] Downloading package stopwords to\n",
      "[nltk_data]     /home/prinanda/nltk_data...\n",
      "[nltk_data]   Unzipping corpora/stopwords.zip.\n"
     ]
    },
    {
     "data": {
      "text/plain": [
       "True"
      ]
     },
     "execution_count": 62,
     "metadata": {},
     "output_type": "execute_result"
    }
   ],
   "source": [
    "import os\n",
    "import pandas as pd\n",
    "import numpy as np\n",
    "import matplotlib.pyplot as plt\n",
    "import nltk\n",
    "from nltk.corpus import stopwords\n",
    "from string import punctuation\n",
    "from Sastrawi.StopWordRemover.StopWordRemoverFactory import StopWordRemoverFactory\n",
    "\n",
    "nltk.download('stopwords')"
   ]
  },
  {
   "cell_type": "code",
   "execution_count": 4,
   "id": "expanded-toddler",
   "metadata": {},
   "outputs": [],
   "source": [
    "# Read Dataset\n",
    "train_data = pd.read_excel(\"Dataset/training/train.xlsx\")\n",
    "test_data = pd.read_excel(\"Dataset/testing/test.xlsx\")"
   ]
  },
  {
   "cell_type": "code",
   "execution_count": 5,
   "id": "referenced-weekly",
   "metadata": {},
   "outputs": [
    {
     "data": {
      "text/html": [
       "<div>\n",
       "<style scoped>\n",
       "    .dataframe tbody tr th:only-of-type {\n",
       "        vertical-align: middle;\n",
       "    }\n",
       "\n",
       "    .dataframe tbody tr th {\n",
       "        vertical-align: top;\n",
       "    }\n",
       "\n",
       "    .dataframe thead th {\n",
       "        text-align: right;\n",
       "    }\n",
       "</style>\n",
       "<table border=\"1\" class=\"dataframe\">\n",
       "  <thead>\n",
       "    <tr style=\"text-align: right;\">\n",
       "      <th></th>\n",
       "      <th>ID</th>\n",
       "      <th>label</th>\n",
       "      <th>tanggal</th>\n",
       "      <th>judul</th>\n",
       "      <th>narasi</th>\n",
       "      <th>nama file gambar</th>\n",
       "    </tr>\n",
       "  </thead>\n",
       "  <tbody>\n",
       "    <tr>\n",
       "      <th>0</th>\n",
       "      <td>71</td>\n",
       "      <td>1</td>\n",
       "      <td>2020-08-17 00:00:00</td>\n",
       "      <td>Pemakaian Masker Menyebabkan Penyakit Legionna...</td>\n",
       "      <td>A caller to a radio talk show recently shared ...</td>\n",
       "      <td>71.jpg</td>\n",
       "    </tr>\n",
       "    <tr>\n",
       "      <th>1</th>\n",
       "      <td>461</td>\n",
       "      <td>1</td>\n",
       "      <td>2020-07-17 00:00:00</td>\n",
       "      <td>Instruksi Gubernur Jateng tentang penilangan  ...</td>\n",
       "      <td>Yth.Seluruh Anggota Grup Sesuai Instruksi Gube...</td>\n",
       "      <td>461.png</td>\n",
       "    </tr>\n",
       "    <tr>\n",
       "      <th>2</th>\n",
       "      <td>495</td>\n",
       "      <td>1</td>\n",
       "      <td>2020-07-13 00:00:00</td>\n",
       "      <td>Foto Jim Rohn: Jokowi adalah presiden terbaik ...</td>\n",
       "      <td>Jokowi adalah presiden terbaik dlm sejarah ban...</td>\n",
       "      <td>495.png</td>\n",
       "    </tr>\n",
       "    <tr>\n",
       "      <th>3</th>\n",
       "      <td>550</td>\n",
       "      <td>1</td>\n",
       "      <td>2020-07-08 00:00:00</td>\n",
       "      <td>ini bukan politik, tapi kenyataan Pak Jokowi b...</td>\n",
       "      <td>Maaf Mas2 dan Mbak2, ini bukan politik, tapi k...</td>\n",
       "      <td>550.png</td>\n",
       "    </tr>\n",
       "    <tr>\n",
       "      <th>4</th>\n",
       "      <td>681</td>\n",
       "      <td>1</td>\n",
       "      <td>2020-06-24 00:00:00</td>\n",
       "      <td>Foto Kadrun kalo lihat foto ini panas dingin</td>\n",
       "      <td>Kadrun kalo lihat foto ini panas dingin . .</td>\n",
       "      <td>681.jpg</td>\n",
       "    </tr>\n",
       "  </tbody>\n",
       "</table>\n",
       "</div>"
      ],
      "text/plain": [
       "    ID  label              tanggal  \\\n",
       "0   71      1  2020-08-17 00:00:00   \n",
       "1  461      1  2020-07-17 00:00:00   \n",
       "2  495      1  2020-07-13 00:00:00   \n",
       "3  550      1  2020-07-08 00:00:00   \n",
       "4  681      1  2020-06-24 00:00:00   \n",
       "\n",
       "                                               judul  \\\n",
       "0  Pemakaian Masker Menyebabkan Penyakit Legionna...   \n",
       "1  Instruksi Gubernur Jateng tentang penilangan  ...   \n",
       "2  Foto Jim Rohn: Jokowi adalah presiden terbaik ...   \n",
       "3  ini bukan politik, tapi kenyataan Pak Jokowi b...   \n",
       "4       Foto Kadrun kalo lihat foto ini panas dingin   \n",
       "\n",
       "                                              narasi nama file gambar  \n",
       "0  A caller to a radio talk show recently shared ...           71.jpg  \n",
       "1  Yth.Seluruh Anggota Grup Sesuai Instruksi Gube...          461.png  \n",
       "2  Jokowi adalah presiden terbaik dlm sejarah ban...          495.png  \n",
       "3  Maaf Mas2 dan Mbak2, ini bukan politik, tapi k...          550.png  \n",
       "4        Kadrun kalo lihat foto ini panas dingin . .          681.jpg  "
      ]
     },
     "execution_count": 5,
     "metadata": {},
     "output_type": "execute_result"
    }
   ],
   "source": [
    "train_data.head()"
   ]
  },
  {
   "cell_type": "code",
   "execution_count": 6,
   "id": "proper-alberta",
   "metadata": {},
   "outputs": [
    {
     "data": {
      "text/html": [
       "<div>\n",
       "<style scoped>\n",
       "    .dataframe tbody tr th:only-of-type {\n",
       "        vertical-align: middle;\n",
       "    }\n",
       "\n",
       "    .dataframe tbody tr th {\n",
       "        vertical-align: top;\n",
       "    }\n",
       "\n",
       "    .dataframe thead th {\n",
       "        text-align: right;\n",
       "    }\n",
       "</style>\n",
       "<table border=\"1\" class=\"dataframe\">\n",
       "  <thead>\n",
       "    <tr style=\"text-align: right;\">\n",
       "      <th></th>\n",
       "      <th>ID</th>\n",
       "      <th>tanggal</th>\n",
       "      <th>judul</th>\n",
       "      <th>narasi</th>\n",
       "      <th>nama file gambar</th>\n",
       "    </tr>\n",
       "  </thead>\n",
       "  <tbody>\n",
       "    <tr>\n",
       "      <th>0</th>\n",
       "      <td>238057</td>\n",
       "      <td>2020-07-13 00:00:00</td>\n",
       "      <td>Narasi Tito Karnavian Berideologi Komunis Kare...</td>\n",
       "      <td>TITO KARNIVAN ITU BERIDIOLOGI KOMUNIS DIA BISA...</td>\n",
       "      <td>238057.jpg</td>\n",
       "    </tr>\n",
       "    <tr>\n",
       "      <th>1</th>\n",
       "      <td>238158</td>\n",
       "      <td>2020-07-06 00:00:00</td>\n",
       "      <td>Anies: Seberat beratnya Pekerjaan Akan terasa ...</td>\n",
       "      <td>Seberat beratnya Pekerjaan Akan terasa ringan ...</td>\n",
       "      <td>238158.jpg</td>\n",
       "    </tr>\n",
       "    <tr>\n",
       "      <th>2</th>\n",
       "      <td>238865</td>\n",
       "      <td>2020-04-22 00:00:00</td>\n",
       "      <td>Hindu di india Melemparkan Patung Buatan Merek...</td>\n",
       "      <td>Hindu di india melemparkan patung buatan merek...</td>\n",
       "      <td>238865.jpg</td>\n",
       "    </tr>\n",
       "    <tr>\n",
       "      <th>3</th>\n",
       "      <td>248298</td>\n",
       "      <td>2019-10-22 00:00:00</td>\n",
       "      <td>RSCM Praktekkan Penyedotan Plug  Vena/Saluran ...</td>\n",
       "      <td>Mulai Hari ini di RSCM mulai diPraktekkan Peny...</td>\n",
       "      <td>248298.jpg</td>\n",
       "    </tr>\n",
       "    <tr>\n",
       "      <th>4</th>\n",
       "      <td>255176</td>\n",
       "      <td>2020-05-01 00:00:00</td>\n",
       "      <td>Permohonan Kelonggaran Angsuran ke OJK</td>\n",
       "      <td>Untuk sekedar info, Bagi anda yg punya ansuran...</td>\n",
       "      <td>255176.jpg</td>\n",
       "    </tr>\n",
       "  </tbody>\n",
       "</table>\n",
       "</div>"
      ],
      "text/plain": [
       "       ID              tanggal  \\\n",
       "0  238057  2020-07-13 00:00:00   \n",
       "1  238158  2020-07-06 00:00:00   \n",
       "2  238865  2020-04-22 00:00:00   \n",
       "3  248298  2019-10-22 00:00:00   \n",
       "4  255176  2020-05-01 00:00:00   \n",
       "\n",
       "                                               judul  \\\n",
       "0  Narasi Tito Karnavian Berideologi Komunis Kare...   \n",
       "1  Anies: Seberat beratnya Pekerjaan Akan terasa ...   \n",
       "2  Hindu di india Melemparkan Patung Buatan Merek...   \n",
       "3  RSCM Praktekkan Penyedotan Plug  Vena/Saluran ...   \n",
       "4             Permohonan Kelonggaran Angsuran ke OJK   \n",
       "\n",
       "                                              narasi nama file gambar  \n",
       "0  TITO KARNIVAN ITU BERIDIOLOGI KOMUNIS DIA BISA...       238057.jpg  \n",
       "1  Seberat beratnya Pekerjaan Akan terasa ringan ...       238158.jpg  \n",
       "2  Hindu di india melemparkan patung buatan merek...       238865.jpg  \n",
       "3  Mulai Hari ini di RSCM mulai diPraktekkan Peny...       248298.jpg  \n",
       "4  Untuk sekedar info, Bagi anda yg punya ansuran...       255176.jpg  "
      ]
     },
     "execution_count": 6,
     "metadata": {},
     "output_type": "execute_result"
    }
   ],
   "source": [
    "test_data.head()"
   ]
  },
  {
   "cell_type": "markdown",
   "id": "e0ed3158",
   "metadata": {},
   "source": [
    "## Pre-Processing"
   ]
  },
  {
   "cell_type": "markdown",
   "id": "d3b7ab36",
   "metadata": {},
   "source": [
    "### Tokenization"
   ]
  },
  {
   "cell_type": "code",
   "execution_count": 26,
   "id": "applicable-tokyo",
   "metadata": {
    "scrolled": true
   },
   "outputs": [
    {
     "data": {
      "text/html": [
       "<div>\n",
       "<style scoped>\n",
       "    .dataframe tbody tr th:only-of-type {\n",
       "        vertical-align: middle;\n",
       "    }\n",
       "\n",
       "    .dataframe tbody tr th {\n",
       "        vertical-align: top;\n",
       "    }\n",
       "\n",
       "    .dataframe thead th {\n",
       "        text-align: right;\n",
       "    }\n",
       "</style>\n",
       "<table border=\"1\" class=\"dataframe\">\n",
       "  <thead>\n",
       "    <tr style=\"text-align: right;\">\n",
       "      <th></th>\n",
       "      <th>ID</th>\n",
       "      <th>label</th>\n",
       "      <th>tanggal</th>\n",
       "      <th>judul</th>\n",
       "      <th>narasi</th>\n",
       "      <th>nama file gambar</th>\n",
       "    </tr>\n",
       "  </thead>\n",
       "  <tbody>\n",
       "    <tr>\n",
       "      <th>0</th>\n",
       "      <td>71</td>\n",
       "      <td>1</td>\n",
       "      <td>2020-08-17 00:00:00</td>\n",
       "      <td>Pemakaian Masker Menyebabkan Penyakit Legionna...</td>\n",
       "      <td>A caller to a radio talk show recently shared ...</td>\n",
       "      <td>71.jpg</td>\n",
       "    </tr>\n",
       "    <tr>\n",
       "      <th>1</th>\n",
       "      <td>461</td>\n",
       "      <td>1</td>\n",
       "      <td>2020-07-17 00:00:00</td>\n",
       "      <td>Instruksi Gubernur Jateng tentang penilangan  ...</td>\n",
       "      <td>Yth.Seluruh Anggota Grup Sesuai Instruksi Gube...</td>\n",
       "      <td>461.png</td>\n",
       "    </tr>\n",
       "    <tr>\n",
       "      <th>2</th>\n",
       "      <td>495</td>\n",
       "      <td>1</td>\n",
       "      <td>2020-07-13 00:00:00</td>\n",
       "      <td>Foto Jim Rohn: Jokowi adalah presiden terbaik ...</td>\n",
       "      <td>Jokowi adalah presiden terbaik dlm sejarah ban...</td>\n",
       "      <td>495.png</td>\n",
       "    </tr>\n",
       "    <tr>\n",
       "      <th>3</th>\n",
       "      <td>550</td>\n",
       "      <td>1</td>\n",
       "      <td>2020-07-08 00:00:00</td>\n",
       "      <td>ini bukan politik, tapi kenyataan Pak Jokowi b...</td>\n",
       "      <td>Maaf Mas2 dan Mbak2, ini bukan politik, tapi k...</td>\n",
       "      <td>550.png</td>\n",
       "    </tr>\n",
       "    <tr>\n",
       "      <th>4</th>\n",
       "      <td>681</td>\n",
       "      <td>1</td>\n",
       "      <td>2020-06-24 00:00:00</td>\n",
       "      <td>Foto Kadrun kalo lihat foto ini panas dingin</td>\n",
       "      <td>Kadrun kalo lihat foto ini panas dingin . .</td>\n",
       "      <td>681.jpg</td>\n",
       "    </tr>\n",
       "  </tbody>\n",
       "</table>\n",
       "</div>"
      ],
      "text/plain": [
       "    ID  label              tanggal  \\\n",
       "0   71      1  2020-08-17 00:00:00   \n",
       "1  461      1  2020-07-17 00:00:00   \n",
       "2  495      1  2020-07-13 00:00:00   \n",
       "3  550      1  2020-07-08 00:00:00   \n",
       "4  681      1  2020-06-24 00:00:00   \n",
       "\n",
       "                                               judul  \\\n",
       "0  Pemakaian Masker Menyebabkan Penyakit Legionna...   \n",
       "1  Instruksi Gubernur Jateng tentang penilangan  ...   \n",
       "2  Foto Jim Rohn: Jokowi adalah presiden terbaik ...   \n",
       "3  ini bukan politik, tapi kenyataan Pak Jokowi b...   \n",
       "4       Foto Kadrun kalo lihat foto ini panas dingin   \n",
       "\n",
       "                                              narasi nama file gambar  \n",
       "0  A caller to a radio talk show recently shared ...           71.jpg  \n",
       "1  Yth.Seluruh Anggota Grup Sesuai Instruksi Gube...          461.png  \n",
       "2  Jokowi adalah presiden terbaik dlm sejarah ban...          495.png  \n",
       "3  Maaf Mas2 dan Mbak2, ini bukan politik, tapi k...          550.png  \n",
       "4        Kadrun kalo lihat foto ini panas dingin . .          681.jpg  "
      ]
     },
     "execution_count": 26,
     "metadata": {},
     "output_type": "execute_result"
    }
   ],
   "source": [
    "df = train_data.head()\n",
    "df"
   ]
  },
  {
   "cell_type": "code",
   "execution_count": 86,
   "id": "18e0d28a",
   "metadata": {},
   "outputs": [],
   "source": [
    "# define stopword list, indonesia\n",
    "STOPWORDS = set(StopWordRemoverFactory().get_stop_words() + stopwords.words('english'))"
   ]
  },
  {
   "cell_type": "code",
   "execution_count": 97,
   "id": "e8a5a4f9",
   "metadata": {},
   "outputs": [
    {
     "data": {
      "text/plain": [
       "'!\"#$%&\\'()*+,-./:;<=>?@[\\\\]^_`{|}~'"
      ]
     },
     "execution_count": 97,
     "metadata": {},
     "output_type": "execute_result"
    }
   ],
   "source": [
    "punctuation"
   ]
  },
  {
   "cell_type": "code",
   "execution_count": 91,
   "id": "f9177a22",
   "metadata": {},
   "outputs": [],
   "source": [
    "def remove_stopword(text):\n",
    "    if text not in STOPWORDS_ID:\n",
    "        return text\n",
    "    elif text not in STOPWORDS_EN:\n",
    "        return text\n",
    "    else:\n",
    "        return \"\""
   ]
  },
  {
   "cell_type": "code",
   "execution_count": 98,
   "id": "sweet-rough",
   "metadata": {},
   "outputs": [],
   "source": [
    "def normalize_word(row):\n",
    "    # case folding, remove stopword\n",
    "    judul = \" \".join([word.lower() for word in nltk.word_tokenize(row.judul) if word.lower() not in STOPWORDS])\n",
    "    narasi = \" \".join([word.lower() for word in nltk.word_tokenize(row.narasi) if word.lower() not in STOPWORDS])\n",
    "    \n",
    "    # remove punctuation\n",
    "    judul = \" \".join([word for word in nltk.word_tokenize(judul) if word not in punctuation])\n",
    "    narasi = \" \".join([word.lower() for word in nltk.word_tokenize(narasi) if word not in punctuation])\n",
    "    \n",
    "    # final assignment\n",
    "    row.judul = judul\n",
    "    row.narasi = narasi\n",
    "    \n",
    "    return row"
   ]
  },
  {
   "cell_type": "code",
   "execution_count": 99,
   "id": "b12d2dd0",
   "metadata": {},
   "outputs": [
    {
     "data": {
      "text/html": [
       "<div>\n",
       "<style scoped>\n",
       "    .dataframe tbody tr th:only-of-type {\n",
       "        vertical-align: middle;\n",
       "    }\n",
       "\n",
       "    .dataframe tbody tr th {\n",
       "        vertical-align: top;\n",
       "    }\n",
       "\n",
       "    .dataframe thead th {\n",
       "        text-align: right;\n",
       "    }\n",
       "</style>\n",
       "<table border=\"1\" class=\"dataframe\">\n",
       "  <thead>\n",
       "    <tr style=\"text-align: right;\">\n",
       "      <th></th>\n",
       "      <th>ID</th>\n",
       "      <th>label</th>\n",
       "      <th>tanggal</th>\n",
       "      <th>judul</th>\n",
       "      <th>narasi</th>\n",
       "      <th>nama file gambar</th>\n",
       "    </tr>\n",
       "  </thead>\n",
       "  <tbody>\n",
       "    <tr>\n",
       "      <th>0</th>\n",
       "      <td>71</td>\n",
       "      <td>1</td>\n",
       "      <td>2020-08-17</td>\n",
       "      <td>pemakaian masker menyebabkan penyakit legionna...</td>\n",
       "      <td>caller radio talk show recently shared wife ho...</td>\n",
       "      <td>71.jpg</td>\n",
       "    </tr>\n",
       "    <tr>\n",
       "      <th>1</th>\n",
       "      <td>461</td>\n",
       "      <td>1</td>\n",
       "      <td>2020-07-17</td>\n",
       "      <td>instruksi gubernur jateng penilangan yg bermas...</td>\n",
       "      <td>yth.seluruh anggota grup sesuai instruksi gube...</td>\n",
       "      <td>461.png</td>\n",
       "    </tr>\n",
       "    <tr>\n",
       "      <th>2</th>\n",
       "      <td>495</td>\n",
       "      <td>1</td>\n",
       "      <td>2020-07-13</td>\n",
       "      <td>foto jim rohn jokowi presiden terbaik dlm seja...</td>\n",
       "      <td>jokowi presiden terbaik dlm sejarah bangsa ind...</td>\n",
       "      <td>495.png</td>\n",
       "    </tr>\n",
       "    <tr>\n",
       "      <th>3</th>\n",
       "      <td>550</td>\n",
       "      <td>1</td>\n",
       "      <td>2020-07-08</td>\n",
       "      <td>bukan politik kenyataan pak jokowi berhasil me...</td>\n",
       "      <td>maaf mas2 mbak2 bukan politik kenyataan pak jo...</td>\n",
       "      <td>550.png</td>\n",
       "    </tr>\n",
       "    <tr>\n",
       "      <th>4</th>\n",
       "      <td>681</td>\n",
       "      <td>1</td>\n",
       "      <td>2020-06-24</td>\n",
       "      <td>foto kadrun kalo lihat foto panas dingin</td>\n",
       "      <td>kadrun kalo lihat foto panas dingin</td>\n",
       "      <td>681.jpg</td>\n",
       "    </tr>\n",
       "  </tbody>\n",
       "</table>\n",
       "</div>"
      ],
      "text/plain": [
       "    ID  label    tanggal                                              judul  \\\n",
       "0   71      1 2020-08-17  pemakaian masker menyebabkan penyakit legionna...   \n",
       "1  461      1 2020-07-17  instruksi gubernur jateng penilangan yg bermas...   \n",
       "2  495      1 2020-07-13  foto jim rohn jokowi presiden terbaik dlm seja...   \n",
       "3  550      1 2020-07-08  bukan politik kenyataan pak jokowi berhasil me...   \n",
       "4  681      1 2020-06-24           foto kadrun kalo lihat foto panas dingin   \n",
       "\n",
       "                                              narasi nama file gambar  \n",
       "0  caller radio talk show recently shared wife ho...           71.jpg  \n",
       "1  yth.seluruh anggota grup sesuai instruksi gube...          461.png  \n",
       "2  jokowi presiden terbaik dlm sejarah bangsa ind...          495.png  \n",
       "3  maaf mas2 mbak2 bukan politik kenyataan pak jo...          550.png  \n",
       "4                kadrun kalo lihat foto panas dingin          681.jpg  "
      ]
     },
     "execution_count": 99,
     "metadata": {},
     "output_type": "execute_result"
    }
   ],
   "source": [
    "df.apply(normalize_word, axis=1)"
   ]
  },
  {
   "cell_type": "code",
   "execution_count": null,
   "id": "fd83a422",
   "metadata": {},
   "outputs": [],
   "source": []
  }
 ],
 "metadata": {
  "kernelspec": {
   "display_name": "Python 3",
   "language": "python",
   "name": "python3"
  },
  "language_info": {
   "codemirror_mode": {
    "name": "ipython",
    "version": 3
   },
   "file_extension": ".py",
   "mimetype": "text/x-python",
   "name": "python",
   "nbconvert_exporter": "python",
   "pygments_lexer": "ipython3",
   "version": "3.9.2"
  }
 },
 "nbformat": 4,
 "nbformat_minor": 5
}
