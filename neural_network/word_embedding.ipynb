{
 "cells": [
  {
   "cell_type": "markdown",
   "id": "irish-worry",
   "metadata": {},
   "source": [
    "# Hoax Detection Using Traditional Machine Learning\n",
    "## Dataset from Satria Data 2020 - Big Data Challenge"
   ]
  },
  {
   "cell_type": "markdown",
   "id": "happy-portuguese",
   "metadata": {},
   "source": [
    "This method represents words as dense word vectors which are trained unlike the one-hot encoding which are hardcoded. This means that the word embeddings collect more information into fewer dimensions. **Word embeddings do not understand the text as a human would, but they rather map the statistical structure of the language used in the corpus**"
   ]
  },
  {
   "cell_type": "markdown",
   "id": "modular-annotation",
   "metadata": {},
   "source": [
    "## Word Embedding Using Keras Embedding Layer"
   ]
  },
  {
   "cell_type": "code",
   "execution_count": 1,
   "id": "black-reach",
   "metadata": {},
   "outputs": [
    {
     "name": "stdout",
     "output_type": "stream",
     "text": [
      "INFO: Pandarallel will run on 4 workers.\n",
      "INFO: Pandarallel will use Memory file system to transfer data between the main process and workers.\n"
     ]
    }
   ],
   "source": [
    "# import dependencies\n",
    "import re\n",
    "import pandas as pd\n",
    "import numpy as np\n",
    "import nltk\n",
    "import matplotlib.pyplot as plt\n",
    "import seaborn as sns\n",
    "from nltk.corpus import stopwords\n",
    "from nltk.stem.snowball import PorterStemmer\n",
    "from string import punctuation\n",
    "from Sastrawi.StopWordRemover.StopWordRemoverFactory import StopWordRemoverFactory\n",
    "from Sastrawi.Stemmer.StemmerFactory import StemmerFactory\n",
    "from sklearn.metrics import classification_report, confusion_matrix\n",
    "from sklearn.model_selection import train_test_split\n",
    "from keras.preprocessing.text import Tokenizer\n",
    "from keras.preprocessing.sequence import pad_sequences\n",
    "from keras.callbacks import CSVLogger, ModelCheckpoint\n",
    "from keras.optimizers import Adam, SGD\n",
    "from keras.backend import clear_session\n",
    "from keras.models import Sequential, load_model\n",
    "from keras.layers import Dense, Embedding, Flatten, GlobalMaxPooling1D\n",
    "from pandarallel import pandarallel\n",
    "\n",
    "%matplotlib inline\n",
    "\n",
    "# multiprocessing Initialization\n",
    "pandarallel.initialize(progress_bar=True)"
   ]
  },
  {
   "cell_type": "code",
   "execution_count": 2,
   "id": "lyric-piece",
   "metadata": {},
   "outputs": [],
   "source": [
    "# Read Dataset\n",
    "train_data = pd.read_excel(\"../data/training/DataLatih.xlsx\", engine=\"openpyxl\")\n",
    "test_data = pd.read_excel(\"../data/testing/DataUji.xlsx\", engine=\"openpyxl\")"
   ]
  },
  {
   "cell_type": "markdown",
   "id": "4a020106",
   "metadata": {},
   "source": [
    "## Pre-processing"
   ]
  },
  {
   "cell_type": "code",
   "execution_count": 3,
   "id": "sensitive-conviction",
   "metadata": {},
   "outputs": [],
   "source": [
    "# Reconstruct train dataframe\n",
    "train_df = pd.DataFrame()\n",
    "train_df[\"konten\"] = train_data[\"judul_translate\"] + \" \" + train_data[\"narasi_translate\"]\n",
    "train_df[\"Class\"] = train_data[\"label\"]\n",
    "\n",
    "# Reconstruct test dataframe\n",
    "test_df = pd.DataFrame()\n",
    "test_df[\"ID\"] = test_data[\"ID\"]\n",
    "test_df[\"konten\"] = test_data[\"judul_translate\"] + \" \" + test_data[\"narasi_translate\"]"
   ]
  },
  {
   "cell_type": "code",
   "execution_count": 4,
   "id": "fleet-blend",
   "metadata": {},
   "outputs": [],
   "source": [
    "# define stopword list, indonesia\n",
    "STOPWORDS = set(StopWordRemoverFactory().get_stop_words() + stopwords.words('english'))\n",
    "\n",
    "# define list kata singkat\n",
    "KATASINGKAT = {\"dlm\":\"dalam\", \"gw\":\"saya\", \"yg\":\"yang\", \"lu\":\"kamu\", \"dkt\":\"dekat\", \"kalo\":\"kalau\", \"n\":\"and\"}\n",
    "\n",
    "# define stemmer sastrawi for Indonesia\n",
    "stemmer_ind = StemmerFactory().create_stemmer()\n",
    "stemmer_eng = PorterStemmer()"
   ]
  },
  {
   "cell_type": "code",
   "execution_count": 5,
   "id": "equal-conjunction",
   "metadata": {},
   "outputs": [],
   "source": [
    "# function of preprocessing\n",
    "def remove_kata_singkat(word):\n",
    "    if word in list(KATASINGKAT.keys()):\n",
    "        return KATASINGKAT.get(word)\n",
    "    else:\n",
    "        return word\n",
    "    \n",
    "def normalize_word(row):\n",
    "    # remove punctuation\n",
    "    konten = re.sub(r'[^a-zA-Z\\s]', ' ', row.konten, re.I|re.A)\n",
    "    \n",
    "    # case folding and remove kata singkat\n",
    "    konten = \" \".join([remove_kata_singkat(word.lower()).strip() for word in nltk.word_tokenize(konten)])\n",
    "    \n",
    "    # remove stopword and number\n",
    "    konten = \" \".join([word for word in nltk.word_tokenize(konten) if word not in punctuation and word.isalpha() and word not in STOPWORDS])\n",
    "    \n",
    "    # stemming\n",
    "    konten = stemmer_ind.stem(konten)\n",
    "    konten = stemmer_eng.stem(konten)\n",
    "    \n",
    "    # final assignment\n",
    "    row.konten = konten\n",
    "    \n",
    "    return row"
   ]
  },
  {
   "cell_type": "code",
   "execution_count": 6,
   "id": "personal-highway",
   "metadata": {},
   "outputs": [
    {
     "data": {
      "application/vnd.jupyter.widget-view+json": {
       "model_id": "043e16086d9e4beea87920bc887d99ba",
       "version_major": 2,
       "version_minor": 0
      },
      "text/plain": [
       "VBox(children=(HBox(children=(IntProgress(value=0, description='0.00%', max=1058), Label(value='0 / 1058'))), …"
      ]
     },
     "metadata": {},
     "output_type": "display_data"
    },
    {
     "data": {
      "application/vnd.jupyter.widget-view+json": {
       "model_id": "2ec09c9bcec546efa39c81605cfa9530",
       "version_major": 2,
       "version_minor": 0
      },
      "text/plain": [
       "VBox(children=(HBox(children=(IntProgress(value=0, description='0.00%', max=118), Label(value='0 / 118'))), HB…"
      ]
     },
     "metadata": {},
     "output_type": "display_data"
    }
   ],
   "source": [
    "# Parallel preprocess to dataframe with progressbar\n",
    "train_df = train_df.parallel_apply(normalize_word, axis=1)\n",
    "test_df = test_df.parallel_apply(normalize_word, axis=1)"
   ]
  },
  {
   "cell_type": "code",
   "execution_count": 7,
   "id": "steady-orleans",
   "metadata": {},
   "outputs": [],
   "source": [
    "konten_train = train_df[\"konten\"]\n",
    "konten_test = test_df[\"konten\"]"
   ]
  },
  {
   "cell_type": "code",
   "execution_count": 8,
   "id": "golden-journalist",
   "metadata": {},
   "outputs": [],
   "source": [
    "# konten_all = konten_train.append(konten_test)"
   ]
  },
  {
   "cell_type": "code",
   "execution_count": 9,
   "id": "naval-turkish",
   "metadata": {},
   "outputs": [
    {
     "data": {
      "text/plain": [
       "((4231,), (470,))"
      ]
     },
     "execution_count": 9,
     "metadata": {},
     "output_type": "execute_result"
    }
   ],
   "source": [
    "konten_train.shape, konten_test.shape"
   ]
  },
  {
   "cell_type": "code",
   "execution_count": 10,
   "id": "reported-prevention",
   "metadata": {},
   "outputs": [],
   "source": [
    "# TOKENIZE BEFORE BUILD FEATURE\n",
    "tokenizer = Tokenizer()\n",
    "tokenizer.fit_on_texts(konten_train)"
   ]
  },
  {
   "cell_type": "code",
   "execution_count": 11,
   "id": "auburn-kitchen",
   "metadata": {},
   "outputs": [],
   "source": [
    "X = tokenizer.texts_to_sequences(konten_train)\n",
    "y = train_df[\"Class\"]\n",
    "X_test = tokenizer.texts_to_sequences(konten_test)"
   ]
  },
  {
   "cell_type": "code",
   "execution_count": 12,
   "id": "alleged-screw",
   "metadata": {},
   "outputs": [],
   "source": [
    "# Split data\n",
    "X_train, X_val, y_train, y_val = train_test_split(X, y, test_size=0.2)"
   ]
  },
  {
   "cell_type": "code",
   "execution_count": 13,
   "id": "monthly-watson",
   "metadata": {},
   "outputs": [],
   "source": [
    "maxlen = 100\n",
    "X_train = pad_sequences(X_train, padding='post', maxlen=maxlen)\n",
    "X_val = pad_sequences(X_val, padding='post', maxlen=maxlen)\n",
    "X_test = pad_sequences(X_test, padding='post', maxlen=maxlen)\n",
    "\n",
    "vocab_size = len(tokenizer.word_index) + 1  # Adding 1 because of reserved 0 index"
   ]
  },
  {
   "cell_type": "markdown",
   "id": "977db924",
   "metadata": {},
   "source": [
    "## Build and Train Model"
   ]
  },
  {
   "cell_type": "code",
   "execution_count": 14,
   "id": "91a6df5f",
   "metadata": {},
   "outputs": [],
   "source": [
    "import keras\n",
    "keras.backend.clear_session()"
   ]
  },
  {
   "cell_type": "code",
   "execution_count": 15,
   "id": "6fae3bda",
   "metadata": {},
   "outputs": [],
   "source": [
    "# hyperparameter\n",
    "EPOCHS = 10\n",
    "BS = 20\n",
    "LEARNING_RATE = 0.001"
   ]
  },
  {
   "cell_type": "code",
   "execution_count": 16,
   "id": "hungarian-appointment",
   "metadata": {},
   "outputs": [
    {
     "name": "stdout",
     "output_type": "stream",
     "text": [
      "Model: \"sequential\"\n",
      "_________________________________________________________________\n",
      "Layer (type)                 Output Shape              Param #   \n",
      "=================================================================\n",
      "embedding (Embedding)        (None, 100, 50)           663100    \n",
      "_________________________________________________________________\n",
      "global_max_pooling1d (Global (None, 50)                0         \n",
      "_________________________________________________________________\n",
      "dense (Dense)                (None, 5)                 255       \n",
      "_________________________________________________________________\n",
      "dense_1 (Dense)              (None, 1)                 6         \n",
      "=================================================================\n",
      "Total params: 663,361\n",
      "Trainable params: 663,361\n",
      "Non-trainable params: 0\n",
      "_________________________________________________________________\n"
     ]
    }
   ],
   "source": [
    "# DEFINE MODEL\n",
    "embedding_dim = 50\n",
    "\n",
    "model = Sequential()\n",
    "model.add(Embedding(input_dim=vocab_size, \n",
    "                           output_dim=embedding_dim, \n",
    "                           input_length=maxlen))\n",
    "model.add(GlobalMaxPooling1D())\n",
    "model.add(Dense(5, activation='relu'))\n",
    "model.add(Dense(1, activation='sigmoid'))\n",
    "model.summary()"
   ]
  },
  {
   "cell_type": "code",
   "execution_count": 17,
   "id": "551f3ca4",
   "metadata": {},
   "outputs": [],
   "source": [
    "# COMPILE MODEL\n",
    "adam = Adam(learning_rate=LEARNING_RATE)\n",
    "model.compile(optimizer=adam,\n",
    "              loss='binary_crossentropy',\n",
    "              metrics=['accuracy'])"
   ]
  },
  {
   "cell_type": "code",
   "execution_count": 18,
   "id": "0aa92b54",
   "metadata": {},
   "outputs": [],
   "source": [
    "# instantiate model callbacks\n",
    "model_callbacks = [\n",
    "        # EarlyStopping(monitor=\"val_loss\", patience=5),\n",
    "        CSVLogger(\n",
    "            filename=f\"../log/history_word_embedding.csv\", separator=\",\", append=False),\n",
    "        ModelCheckpoint(\n",
    "            filepath=f\"../model/model_word_embedding.h5\", monitor=\"val_loss\", save_best_only=True)\n",
    "    ]"
   ]
  },
  {
   "cell_type": "code",
   "execution_count": 19,
   "id": "00f7d729",
   "metadata": {},
   "outputs": [
    {
     "name": "stdout",
     "output_type": "stream",
     "text": [
      "Epoch 1/10\n",
      "170/170 [==============================] - 4s 16ms/step - loss: 0.6169 - accuracy: 0.8276 - val_loss: 0.4892 - val_accuracy: 0.8052\n",
      "Epoch 2/10\n",
      "170/170 [==============================] - 2s 12ms/step - loss: 0.4590 - accuracy: 0.8205 - val_loss: 0.4826 - val_accuracy: 0.8052\n",
      "Epoch 3/10\n",
      "170/170 [==============================] - 2s 12ms/step - loss: 0.4142 - accuracy: 0.8327 - val_loss: 0.4480 - val_accuracy: 0.8040\n",
      "Epoch 4/10\n",
      "170/170 [==============================] - 2s 12ms/step - loss: 0.3590 - accuracy: 0.8333 - val_loss: 0.4235 - val_accuracy: 0.8264\n",
      "Epoch 5/10\n",
      "170/170 [==============================] - 2s 12ms/step - loss: 0.2557 - accuracy: 0.8800 - val_loss: 0.4355 - val_accuracy: 0.8323\n",
      "Epoch 6/10\n",
      "170/170 [==============================] - 2s 12ms/step - loss: 0.1762 - accuracy: 0.9305 - val_loss: 0.4609 - val_accuracy: 0.8288\n",
      "Epoch 7/10\n",
      "170/170 [==============================] - 2s 12ms/step - loss: 0.1218 - accuracy: 0.9621 - val_loss: 0.4791 - val_accuracy: 0.8229\n",
      "Epoch 8/10\n",
      "170/170 [==============================] - 2s 12ms/step - loss: 0.0810 - accuracy: 0.9823 - val_loss: 0.5154 - val_accuracy: 0.8241\n",
      "Epoch 9/10\n",
      "170/170 [==============================] - 2s 13ms/step - loss: 0.0558 - accuracy: 0.9919 - val_loss: 0.5470 - val_accuracy: 0.8205\n",
      "Epoch 10/10\n",
      "170/170 [==============================] - 2s 12ms/step - loss: 0.0348 - accuracy: 0.9952 - val_loss: 0.5880 - val_accuracy: 0.8264\n"
     ]
    }
   ],
   "source": [
    "# TRAIN MODEL\n",
    "history = model.fit(\n",
    "    X_train, y_train, \n",
    "    validation_data=(X_val, y_val), \n",
    "    epochs=EPOCHS, \n",
    "    batch_size=BS,\n",
    "    callbacks=model_callbacks,\n",
    ")"
   ]
  },
  {
   "cell_type": "markdown",
   "id": "87c1f9d4",
   "metadata": {},
   "source": [
    "## Evaluate Model"
   ]
  },
  {
   "cell_type": "code",
   "execution_count": 20,
   "id": "0558e9e7",
   "metadata": {},
   "outputs": [],
   "source": [
    "# load saved model\n",
    "model = load_model(f\"../model/model_word_embedding.h5\")"
   ]
  },
  {
   "cell_type": "code",
   "execution_count": 21,
   "id": "forty-praise",
   "metadata": {},
   "outputs": [
    {
     "name": "stdout",
     "output_type": "stream",
     "text": [
      "Training Accuracy\t: 0.8750\n",
      "Training Loss\t\t: 0.2697\n",
      "\n",
      "Validation Accuracy\t: 0.8264\n",
      "Validation Loss\t\t: 0.4235\n"
     ]
    }
   ],
   "source": [
    "loss, accuracy = model.evaluate(X_train, y_train, verbose=False)\n",
    "print(\"Training Accuracy\\t: {:.4f}\".format(accuracy))\n",
    "print(\"Training Loss\\t\\t: {:.4f}\".format(loss))\n",
    "\n",
    "val_loss, val_accuracy = model.evaluate(X_val, y_val, verbose=False)\n",
    "print(\"\\nValidation Accuracy\\t: {:.4f}\".format(val_accuracy))\n",
    "print(\"Validation Loss\\t\\t: {:.4f}\".format(val_loss))"
   ]
  },
  {
   "cell_type": "code",
   "execution_count": 22,
   "id": "b703341d",
   "metadata": {},
   "outputs": [],
   "source": [
    "y_pred = np.round(model.predict(X_val))"
   ]
  },
  {
   "cell_type": "code",
   "execution_count": 23,
   "id": "1de4e478",
   "metadata": {},
   "outputs": [],
   "source": [
    "# [round(y[0]) for y in y_pred]\n",
    "# print(y_pred)"
   ]
  },
  {
   "cell_type": "code",
   "execution_count": 24,
   "id": "14869c5f",
   "metadata": {},
   "outputs": [
    {
     "name": "stdout",
     "output_type": "stream",
     "text": [
      "              precision    recall  f1-score   support\n",
      "\n",
      "           0       0.72      0.18      0.28       165\n",
      "           1       0.83      0.98      0.90       682\n",
      "\n",
      "    accuracy                           0.83       847\n",
      "   macro avg       0.78      0.58      0.59       847\n",
      "weighted avg       0.81      0.83      0.78       847\n",
      "\n"
     ]
    }
   ],
   "source": [
    "# Classification Report\n",
    "print(classification_report(y_val,y_pred))"
   ]
  },
  {
   "cell_type": "code",
   "execution_count": 25,
   "id": "87aee8eb",
   "metadata": {},
   "outputs": [
    {
     "data": {
      "text/plain": [
       "<AxesSubplot:>"
      ]
     },
     "execution_count": 25,
     "metadata": {},
     "output_type": "execute_result"
    },
    {
     "data": {
      "image/png": "[encoded data removed]",
      "text/plain": [
       "<Figure size 432x288 with 2 Axes>"
      ]
     },
     "metadata": {
      "needs_background": "light"
     },
     "output_type": "display_data"
    }
   ],
   "source": [
    "# Confusion matrix\n",
    "cf_matrix = confusion_matrix(y_val, y_pred, labels=[0,1])\n",
    "sns.heatmap(cf_matrix, annot=True, cmap=\"Blues\", fmt='2')"
   ]
  },
  {
   "cell_type": "markdown",
   "id": "2106331a",
   "metadata": {},
   "source": [
    "## Visualization"
   ]
  },
  {
   "cell_type": "code",
   "execution_count": 26,
   "id": "92f438ea",
   "metadata": {},
   "outputs": [],
   "source": [
    "# Font option\n",
    "title_font = {'weight': 'medium', 'size': 'medium'}\n",
    "axis_font = {'size': 'small'}\n",
    "\n",
    "Numero = [x for x in range(EPOCHS)]"
   ]
  },
  {
   "cell_type": "code",
   "execution_count": 27,
   "id": "0d884a5b",
   "metadata": {},
   "outputs": [
    {
     "data": {
      "image/png": "[encoded data removed]",
      "text/plain": [
       "<Figure size 432x288 with 1 Axes>"
      ]
     },
     "metadata": {
      "needs_background": "light"
     },
     "output_type": "display_data"
    }
   ],
   "source": [
    "# Plot loss\n",
    "plt.figure()\n",
    "plt.plot(Numero, history.history[\"loss\"], label=\"train_loss\")\n",
    "plt.plot(Numero, history.history[\"val_loss\"], label=\"val_loss\")\n",
    "plt.title(\"Training and Validation Loss on Dataset\", **title_font)\n",
    "plt.xlabel(f\"Epoch {EPOCHS} Batch Size {BS}\", **axis_font)\n",
    "plt.ylabel(\"Loss\", **axis_font)\n",
    "plt.legend(loc='upper right')\n",
    "plt.tight_layout()\n",
    "plt.grid()"
   ]
  },
  {
   "cell_type": "code",
   "execution_count": 28,
   "id": "a2a366f1",
   "metadata": {},
   "outputs": [
    {
     "data": {
      "image/png": "[encoded data removed]",
      "text/plain": [
       "<Figure size 432x288 with 1 Axes>"
      ]
     },
     "metadata": {
      "needs_background": "light"
     },
     "output_type": "display_data"
    }
   ],
   "source": [
    "# plot accuracy\n",
    "plt.figure()\n",
    "plt.plot(Numero, history.history[\"accuracy\"], label=\"train_acc\")\n",
    "plt.plot(Numero, history.history[\"val_accuracy\"], label=\"val_acc\")\n",
    "plt.title(\"Training and Validation Accuracy on Dataset\", **title_font)\n",
    "plt.xlabel(\n",
    "    f\"Epoch {EPOCHS} Batch Size {BS}\", **axis_font)\n",
    "plt.ylabel(\"Accuracy\", **axis_font)\n",
    "plt.legend(loc='upper left')\n",
    "plt.tight_layout()\n",
    "plt.grid()"
   ]
  },
  {
   "cell_type": "markdown",
   "id": "5ab74a05",
   "metadata": {},
   "source": [
    "## Save Results to CSV"
   ]
  },
  {
   "cell_type": "code",
   "execution_count": 29,
   "id": "227ec8dc",
   "metadata": {},
   "outputs": [],
   "source": [
    "predictions_word_embeddy = [int(y[0]) for y in np.round(model.predict(X_test))]\n",
    "results_we = pd.DataFrame(zip(test_df[\"ID\"], predictions_word_embeddy), columns=[\"ID\", \"Prediksi\"])\n",
    "results_we.to_csv(\"../result/neural_network/result_word_embedding.csv\", index=False)"
   ]
  },
  {
   "cell_type": "markdown",
   "id": "ordinary-luxembourg",
   "metadata": {},
   "source": [
    "## Using Pretrained Word Embeddings"
   ]
  },
  {
   "cell_type": "markdown",
   "id": "allied-copying",
   "metadata": {},
   "source": [
    "An alternative is to use a precomputed embedding space that utilizes a much larger corpus. It is possible to precompute word embeddings by simply training them on a large corpus of text. Among the most popular methods are [Word2Vec](https://papers.nips.cc/paper/2013/file/9aa42b31882ec039965f3c4923ce901b-Paper.pdf) developed by Google and [GloVe](https://nlp.stanford.edu/projects/glove/) (Global Vectors for Word Representation) developed by the Stanford NLP Group."
   ]
  },
  {
   "cell_type": "markdown",
   "id": "hybrid-skating",
   "metadata": {},
   "source": [
    "### Reference\n",
    "- https://realpython.com/python-keras-text-classification/\n",
    "- https://stats.stackexchange.com/questions/270546/how-does-keras-embedding-layer-work"
   ]
  }
 ],
 "metadata": {
  "kernelspec": {
   "display_name": "Python 3",
   "language": "python",
   "name": "python3"
  },
  "language_info": {
   "codemirror_mode": {
    "name": "ipython",
    "version": 3
   },
   "file_extension": ".py",
   "mimetype": "text/x-python",
   "name": "python",
   "nbconvert_exporter": "python",
   "pygments_lexer": "ipython3",
   "version": "3.8.8"
  }
 },
 "nbformat": 4,
 "nbformat_minor": 5
}
