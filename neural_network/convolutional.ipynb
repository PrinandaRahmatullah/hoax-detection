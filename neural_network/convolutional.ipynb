{
 "cells": [
  {
   "cell_type": "markdown",
   "id": "normal-footwear",
   "metadata": {},
   "source": [
    "# Hoax Detection Using CNN\n",
    "## Dataset from Satria Data 2020 - Big Data Challenge"
   ]
  },
  {
   "cell_type": "markdown",
   "id": "cordless-patrol",
   "metadata": {},
   "source": [
    "## Covolutional Neural Network"
   ]
  },
  {
   "cell_type": "code",
   "execution_count": 1,
   "id": "shaped-policy",
   "metadata": {},
   "outputs": [],
   "source": [
    "import os\n",
    "import time\n",
    "import numpy as np\n",
    "import pandas as pd\n",
    "import seaborn as sns\n",
    "import matplotlib.pyplot as plt\n",
    "import tensorflow as tf\n",
    "from tqdm import tqdm\n",
    "from sklearn.metrics import classification_report, confusion_matrix\n",
    "from sklearn.preprocessing import LabelEncoder\n",
    "from tensorflow import keras\n",
    "from tensorflow.keras.models import Sequential, load_model\n",
    "from tensorflow.keras.layers import ZeroPadding2D, Convolution2D, MaxPooling2D, Dense, Flatten, Dropout\n",
    "from tensorflow.keras.optimizers import Adam\n",
    "from tensorflow.keras.applications import ResNet50\n",
    "from tensorflow.keras.preprocessing.image import load_img, img_to_array\n",
    "from keras_preprocessing.image import ImageDataGenerator\n",
    "from tensorflow.keras.callbacks import ModelCheckpoint, CSVLogger"
   ]
  },
  {
   "cell_type": "markdown",
   "id": "developmental-behavior",
   "metadata": {},
   "source": [
    "## Needed Function"
   ]
  },
  {
   "cell_type": "code",
   "execution_count": 2,
   "id": "trained-palace",
   "metadata": {},
   "outputs": [],
   "source": [
    "# Read Training image from dataframe\n",
    "def optimize_aug_train_data(train_dataframe, BS):\n",
    "    train_datagen = ImageDataGenerator(\n",
    "        rescale=1./255,\n",
    "        validation_split=0.20\n",
    "    )\n",
    "    train_dataset = train_datagen.flow_from_dataframe(\n",
    "        dataframe=train_dataframe,\n",
    "        target_size=(224,224),\n",
    "        class_mode=\"binary\",\n",
    "        subset=\"training\",\n",
    "        batch_size=BS,\n",
    "        directory=\"../data/training/image/\",\n",
    "        x_col=\"nama file gambar\",\n",
    "        y_col=\"label\",\n",
    "        shuffle=True\n",
    "    )\n",
    "    \n",
    "    validation_dataset = train_datagen.flow_from_dataframe(\n",
    "        dataframe=train_dataframe,\n",
    "        target_size=(224,224),\n",
    "        class_mode=\"binary\",\n",
    "        subset=\"validation\",\n",
    "        batch_size=BS,\n",
    "        directory=\"../data/training/image/\",\n",
    "        x_col=\"nama file gambar\",\n",
    "        y_col=\"label\",\n",
    "        shuffle=True\n",
    "    )\n",
    "    return train_dataset, validation_dataset\n",
    "\n",
    "\n",
    "# Read testing image from dataframe\n",
    "def optimize_aug_test_data(train_dataframe, BS):\n",
    "    test_datagen = ImageDataGenerator(\n",
    "        rescale=1./255\n",
    "    )\n",
    "    test_dataset = test_datagen.flow_from_dataframe(\n",
    "        dataframe=train_dataframe,\n",
    "        target_size=(224,224),\n",
    "        class_mode=\"binary\",\n",
    "        batch_size=BS,\n",
    "        directory=\"../data/training/image/\",\n",
    "        x_col=\"nama file gambar\",\n",
    "    )\n",
    "    return train_dataset"
   ]
  },
  {
   "cell_type": "code",
   "execution_count": 3,
   "id": "entitled-suspension",
   "metadata": {},
   "outputs": [],
   "source": [
    "# DEFINE MODEL CALLBACKS\n",
    "def my_callbacks(EPOCHS, BS):\n",
    "    model_callbacks = [\n",
    "        # EarlyStopping(monitor=\"val_loss\", patience=5),\n",
    "        CSVLogger(\n",
    "            filename=f\"../log/history_cnn_e{EPOCHS}_bs{BS}.csv\", separator=\",\", append=False),\n",
    "        ModelCheckpoint(\n",
    "            filepath=f\"../model/model_cnn_e{EPOCHS}_bs{BS}_val_loss.h5\", monitor=\"val_loss\", save_best_only=True),\n",
    "        ModelCheckpoint(\n",
    "            filepath=f\"../model/model_cnn_e{EPOCHS}_bs{BS}_val_accuracy.h5\", monitor=\"val_accuracy\", save_best_only=True)\n",
    "    ]\n",
    "    return model_callbacks\n",
    "\n",
    "# DEFINE LOAD MODEL\n",
    "def load_my_model(EPOCHS, BS):\n",
    "    model = load_model(\n",
    "        f\"../model/model_cnn_e{EPOCHS}_bs{BS}_val_accuracy.h5\")\n",
    "    return model"
   ]
  },
  {
   "cell_type": "code",
   "execution_count": 4,
   "id": "funny-federation",
   "metadata": {},
   "outputs": [],
   "source": [
    "# Font option\n",
    "title_font = {'weight': 'medium', 'size': 'medium'}\n",
    "axis_font = {'size': 'small'}\n",
    "\n",
    "\n",
    "# Visualize accuracy from training model\n",
    "def visualize_accuracy(Historia, EPOCHS, BS):\n",
    "    # xlimit\n",
    "    Numero = np.arange(1, EPOCHS+1, 1)\n",
    "\n",
    "    # plot accuracy\n",
    "    plt.figure()\n",
    "    plt.plot(Numero, Historia.history[\"accuracy\"], label=\"train_acc\")\n",
    "    plt.plot(Numero, Historia.history[\"val_accuracy\"], label=\"val_acc\")\n",
    "    plt.title(\"Training and Validation Accuracy on Dataset\", **title_font)\n",
    "    plt.xlabel(\n",
    "        f\"Epoch {EPOCHS} Batch Size {BS}\", **axis_font)\n",
    "    plt.ylabel(\"Accuracy\", **axis_font)\n",
    "    plt.legend(loc='upper left')\n",
    "    plt.tight_layout()\n",
    "    plt.grid()\n",
    "    plt.show()\n",
    "#     plt.savefig(\n",
    "#         f\"../Model/{MODEL_NAME}/figure_accuracy_{MODEL_NAME}_label{label_size}_data{image_per_label}_e{EPOCHS}_bs{BS}.png\", dpi=600)\n",
    "\n",
    "\n",
    "# Visualize loss from training model\n",
    "def visualize_loss(Historia, EPOCHS, BS):\n",
    "    # xlimit\n",
    "    Numero = np.arange(1, EPOCHS+1, 1)\n",
    "\n",
    "    # plot loss\n",
    "    plt.figure()\n",
    "    plt.plot(Numero, Historia.history[\"loss\"], label=\"train_loss\")\n",
    "    plt.plot(Numero, Historia.history[\"val_loss\"], label=\"val_loss\")\n",
    "    plt.title(\"Training and Validation Loss on Dataset\", **title_font)\n",
    "    plt.xlabel(\n",
    "        f\"Epoch {EPOCHS} Batch Size {BS}\", **axis_font)\n",
    "    plt.ylabel(\"Loss\", **axis_font)\n",
    "    plt.legend(loc='upper right')\n",
    "    plt.tight_layout()\n",
    "    plt.grid()\n",
    "    plt.show()\n",
    "#     plt.savefig(\n",
    "#         f\"../Model/{MODEL_NAME}/figure_loss_{MODEL_NAME}_label{label_size}_data{image_per_label}_e{EPOCHS}_bs{BS}.png\", dpi=600)\n",
    "\n",
    "\n",
    "# Print classification report to csv\n",
    "def print_class_reports(tes, predictions, target_names, EPOCHS, BS):\n",
    "    report = classification_report(\n",
    "        tes, predictions, target_names=target_names, output_dict=True)\n",
    "    dataframe = pd.DataFrame(report).transpose()\n",
    "    dataframe.to_csv(\n",
    "        f\"../log/class_reports_model_cnn_e{EPOCHS}_bs{BS}.csv\")\n",
    "    print(classification_report(tes, predictions, target_names=target_names))\n",
    "\n",
    "\n",
    "# print confusion matrix and visualize it\n",
    "def print_conf_matrix(tes, predictions, target_names, EPOCHS, BS):\n",
    "    confusion_mtx = confusion_matrix(tes, predictions)\n",
    "    plt.figure()\n",
    "    sns.heatmap(confusion_mtx, xticklabels=target_names, yticklabels=target_names,\n",
    "                # annot=True,\n",
    "                fmt='g',\n",
    "                cbar_kws={'label': 'Individual Image'},\n",
    "                )\n",
    "    plt.title(\"Confusion Matrix on Prediction\", **title_font)\n",
    "    plt.xlabel('Prediction', **axis_font)\n",
    "    plt.xticks(fontsize=4)\n",
    "    plt.yticks(fontsize=4)\n",
    "    plt.ylabel('Label', **axis_font)\n",
    "    plt.tight_layout()\n",
    "    plt.show()\n",
    "#     plt.savefig(\n",
    "#         f\"../Model/{MODEL_NAME}/confusion_matrix_{MODEL_NAME}_label{label_size}_data{image_per_label}_e{EPOCHS}_bs{BS}.png\", dpi=600)\n",
    "#     print(confusion_mtx)"
   ]
  },
  {
   "cell_type": "markdown",
   "id": "robust-brooks",
   "metadata": {},
   "source": [
    "## PREPROCESS"
   ]
  },
  {
   "cell_type": "code",
   "execution_count": 5,
   "id": "swiss-perry",
   "metadata": {},
   "outputs": [
    {
     "name": "stdout",
     "output_type": "stream",
     "text": [
      "[INFO] Hyperparameter:\n",
      "Epoch: 25\n",
      "Learning rate: 0.001\n",
      "Batch Size: 10\n"
     ]
    }
   ],
   "source": [
    "# Initiate Constant\n",
    "BS = 10\n",
    "EPOCHS = 25\n",
    "LEARNING_RATE = 0.001\n",
    "SPLIT_SIZE = \"\"\n",
    "\n",
    "print(\"[INFO] Hyperparameter:\")\n",
    "print(\"Epoch: \" + str(EPOCHS))\n",
    "print(\"Learning rate: \" + str(LEARNING_RATE))\n",
    "print(\"Batch Size: \" + str(BS))"
   ]
  },
  {
   "cell_type": "code",
   "execution_count": 6,
   "id": "employed-powder",
   "metadata": {},
   "outputs": [
    {
     "data": {
      "text/html": [
       "<div>\n",
       "<style scoped>\n",
       "    .dataframe tbody tr th:only-of-type {\n",
       "        vertical-align: middle;\n",
       "    }\n",
       "\n",
       "    .dataframe tbody tr th {\n",
       "        vertical-align: top;\n",
       "    }\n",
       "\n",
       "    .dataframe thead th {\n",
       "        text-align: right;\n",
       "    }\n",
       "</style>\n",
       "<table border=\"1\" class=\"dataframe\">\n",
       "  <thead>\n",
       "    <tr style=\"text-align: right;\">\n",
       "      <th></th>\n",
       "      <th>ID</th>\n",
       "      <th>label</th>\n",
       "      <th>tanggal</th>\n",
       "      <th>judul</th>\n",
       "      <th>narasi</th>\n",
       "      <th>nama file gambar</th>\n",
       "      <th>judul_translate</th>\n",
       "      <th>narasi_translate</th>\n",
       "    </tr>\n",
       "  </thead>\n",
       "  <tbody>\n",
       "    <tr>\n",
       "      <th>0</th>\n",
       "      <td>71</td>\n",
       "      <td>1</td>\n",
       "      <td>2020-08-17 00:00:00</td>\n",
       "      <td>Pemakaian Masker Menyebabkan Penyakit Legionna...</td>\n",
       "      <td>A caller to a radio talk show recently shared ...</td>\n",
       "      <td>71.jpg</td>\n",
       "      <td>Pemakaian Masker Menyebabkan Penyakit Legionna...</td>\n",
       "      <td>Seorang penelepon ke talk show radio baru-baru...</td>\n",
       "    </tr>\n",
       "    <tr>\n",
       "      <th>1</th>\n",
       "      <td>461</td>\n",
       "      <td>1</td>\n",
       "      <td>2020-07-17 00:00:00</td>\n",
       "      <td>Instruksi Gubernur Jateng tentang penilangan  ...</td>\n",
       "      <td>Yth.Seluruh Anggota Grup Sesuai Instruksi Gube...</td>\n",
       "      <td>461.png</td>\n",
       "      <td>Instruksi Gubernur Jateng TENTANG penilangan B...</td>\n",
       "      <td>Yth.Seluruh Anggota Anggota Grup Sesuai Instru...</td>\n",
       "    </tr>\n",
       "    <tr>\n",
       "      <th>2</th>\n",
       "      <td>495</td>\n",
       "      <td>1</td>\n",
       "      <td>2020-07-13 00:00:00</td>\n",
       "      <td>Foto Jim Rohn: Jokowi adalah presiden terbaik ...</td>\n",
       "      <td>Jokowi adalah presiden terbaik dlm sejarah ban...</td>\n",
       "      <td>495.png</td>\n",
       "      <td>Foto Jim Rohn: Jokowi Adalah Presiden Terbaik ...</td>\n",
       "      <td>Jokowi Adalah Presiden Terbaik dlm Sejarah ban...</td>\n",
       "    </tr>\n",
       "    <tr>\n",
       "      <th>3</th>\n",
       "      <td>550</td>\n",
       "      <td>1</td>\n",
       "      <td>2020-07-08 00:00:00</td>\n",
       "      <td>ini bukan politik, tapi kenyataan Pak Jokowi b...</td>\n",
       "      <td>Maaf Mas2 dan Mbak2, ini bukan politik, tapi k...</td>\n",
       "      <td>550.png</td>\n",
       "      <td>Suami Bukan politik, TAPI Kenyataan Pak Jokowi...</td>\n",
       "      <td>Maaf Mas2 Dan Mbak2, Penyanyi Bukan politik, T...</td>\n",
       "    </tr>\n",
       "    <tr>\n",
       "      <th>4</th>\n",
       "      <td>681</td>\n",
       "      <td>1</td>\n",
       "      <td>2020-06-24 00:00:00</td>\n",
       "      <td>Foto Kadrun kalo lihat foto ini panas dingin</td>\n",
       "      <td>Kadrun kalo lihat foto ini panas dingin . .</td>\n",
       "      <td>681.jpg</td>\n",
       "      <td>Foto Kadrun kalo lihat foto Penyanyi Panas Dingin</td>\n",
       "      <td>Kadrun kalo lihat foto Penyanyi Panas Dingin. .</td>\n",
       "    </tr>\n",
       "  </tbody>\n",
       "</table>\n",
       "</div>"
      ],
      "text/plain": [
       "    ID label              tanggal  \\\n",
       "0   71     1  2020-08-17 00:00:00   \n",
       "1  461     1  2020-07-17 00:00:00   \n",
       "2  495     1  2020-07-13 00:00:00   \n",
       "3  550     1  2020-07-08 00:00:00   \n",
       "4  681     1  2020-06-24 00:00:00   \n",
       "\n",
       "                                               judul  \\\n",
       "0  Pemakaian Masker Menyebabkan Penyakit Legionna...   \n",
       "1  Instruksi Gubernur Jateng tentang penilangan  ...   \n",
       "2  Foto Jim Rohn: Jokowi adalah presiden terbaik ...   \n",
       "3  ini bukan politik, tapi kenyataan Pak Jokowi b...   \n",
       "4       Foto Kadrun kalo lihat foto ini panas dingin   \n",
       "\n",
       "                                              narasi nama file gambar  \\\n",
       "0  A caller to a radio talk show recently shared ...           71.jpg   \n",
       "1  Yth.Seluruh Anggota Grup Sesuai Instruksi Gube...          461.png   \n",
       "2  Jokowi adalah presiden terbaik dlm sejarah ban...          495.png   \n",
       "3  Maaf Mas2 dan Mbak2, ini bukan politik, tapi k...          550.png   \n",
       "4        Kadrun kalo lihat foto ini panas dingin . .          681.jpg   \n",
       "\n",
       "                                     judul_translate  \\\n",
       "0  Pemakaian Masker Menyebabkan Penyakit Legionna...   \n",
       "1  Instruksi Gubernur Jateng TENTANG penilangan B...   \n",
       "2  Foto Jim Rohn: Jokowi Adalah Presiden Terbaik ...   \n",
       "3  Suami Bukan politik, TAPI Kenyataan Pak Jokowi...   \n",
       "4  Foto Kadrun kalo lihat foto Penyanyi Panas Dingin   \n",
       "\n",
       "                                    narasi_translate  \n",
       "0  Seorang penelepon ke talk show radio baru-baru...  \n",
       "1  Yth.Seluruh Anggota Anggota Grup Sesuai Instru...  \n",
       "2  Jokowi Adalah Presiden Terbaik dlm Sejarah ban...  \n",
       "3  Maaf Mas2 Dan Mbak2, Penyanyi Bukan politik, T...  \n",
       "4    Kadrun kalo lihat foto Penyanyi Panas Dingin. .  "
      ]
     },
     "execution_count": 6,
     "metadata": {},
     "output_type": "execute_result"
    }
   ],
   "source": [
    "# read train dataset\n",
    "df_train = pd.read_excel(\"../data/training/DataLatih.xlsx\", engine=\"openpyxl\", dtype=str)\n",
    "df_train.head()"
   ]
  },
  {
   "cell_type": "code",
   "execution_count": 47,
   "id": "fancy-editor",
   "metadata": {},
   "outputs": [
    {
     "data": {
      "text/plain": [
       "1    3465\n",
       "0    2298\n",
       "Name: label, dtype: int64"
      ]
     },
     "execution_count": 47,
     "metadata": {},
     "output_type": "execute_result"
    }
   ],
   "source": [
    "df_train_0 = df_train[df_train.label == \"0\"]\n",
    "df_train_dummy = df_train.append(df_train_0, ignore_index=True)\n",
    "df_train_dummy = df_train_dummy.append(df_train_0, ignore_index=True)\n",
    "df_train_dummy.label.value_counts()"
   ]
  },
  {
   "cell_type": "code",
   "execution_count": 7,
   "id": "different-boutique",
   "metadata": {},
   "outputs": [
    {
     "data": {
      "text/html": [
       "<div>\n",
       "<style scoped>\n",
       "    .dataframe tbody tr th:only-of-type {\n",
       "        vertical-align: middle;\n",
       "    }\n",
       "\n",
       "    .dataframe tbody tr th {\n",
       "        vertical-align: top;\n",
       "    }\n",
       "\n",
       "    .dataframe thead th {\n",
       "        text-align: right;\n",
       "    }\n",
       "</style>\n",
       "<table border=\"1\" class=\"dataframe\">\n",
       "  <thead>\n",
       "    <tr style=\"text-align: right;\">\n",
       "      <th></th>\n",
       "      <th>ID</th>\n",
       "      <th>tanggal</th>\n",
       "      <th>judul</th>\n",
       "      <th>narasi</th>\n",
       "      <th>nama file gambar</th>\n",
       "      <th>judul_translate</th>\n",
       "      <th>narasi_translate</th>\n",
       "    </tr>\n",
       "  </thead>\n",
       "  <tbody>\n",
       "    <tr>\n",
       "      <th>0</th>\n",
       "      <td>238057</td>\n",
       "      <td>2020-07-13 00:00:00</td>\n",
       "      <td>Narasi Tito Karnavian Berideologi Komunis Kare...</td>\n",
       "      <td>TITO KARNIVAN ITU BERIDIOLOGI KOMUNIS DIA BISA...</td>\n",
       "      <td>238057.jpg</td>\n",
       "      <td>Narasi Tito Karnavian Berideologi Komunis KARE...</td>\n",
       "      <td>TITO KARNIVAN ITU beridiologi Komunis DIA BISA...</td>\n",
       "    </tr>\n",
       "    <tr>\n",
       "      <th>1</th>\n",
       "      <td>238158</td>\n",
       "      <td>2020-07-06 00:00:00</td>\n",
       "      <td>Anies: Seberat beratnya Pekerjaan Akan terasa ...</td>\n",
       "      <td>Seberat beratnya Pekerjaan Akan terasa ringan ...</td>\n",
       "      <td>238158.jpg</td>\n",
       "      <td>Anies: seberat beratnya Pekerjaan Akan terasa ...</td>\n",
       "      <td>Seberat beratnya Pekerjaan Akan terasa Anda Ri...</td>\n",
       "    </tr>\n",
       "    <tr>\n",
       "      <th>2</th>\n",
       "      <td>238865</td>\n",
       "      <td>2020-04-22 00:00:00</td>\n",
       "      <td>Hindu di india Melemparkan Patung Buatan Merek...</td>\n",
       "      <td>Hindu di india melemparkan patung buatan merek...</td>\n",
       "      <td>238865.jpg</td>\n",
       "      <td>Hindu di india Melemparkan Patung Buatan Merek...</td>\n",
       "      <td>Hindu di india melemparkan patung Buatan merek...</td>\n",
       "    </tr>\n",
       "    <tr>\n",
       "      <th>3</th>\n",
       "      <td>248298</td>\n",
       "      <td>2019-10-22 00:00:00</td>\n",
       "      <td>RSCM Praktekkan Penyedotan Plug  Vena/Saluran ...</td>\n",
       "      <td>Mulai Hari ini di RSCM mulai diPraktekkan Peny...</td>\n",
       "      <td>248298.jpg</td>\n",
       "      <td>RSCM praktekkan penyedotan Plug Vena / Saluran...</td>\n",
       "      <td>Mulai Hari Penyanyi di RSCM Mulai diPraktekkan...</td>\n",
       "    </tr>\n",
       "    <tr>\n",
       "      <th>4</th>\n",
       "      <td>255176</td>\n",
       "      <td>2020-05-01 00:00:00</td>\n",
       "      <td>Permohonan Kelonggaran Angsuran ke OJK</td>\n",
       "      <td>Untuk sekedar info, Bagi anda yg punya ansuran...</td>\n",
       "      <td>255176.jpg</td>\n",
       "      <td>Permohonan Kelonggaran Angsuran Ke OJK</td>\n",
       "      <td>Untuk Sekedar info, Bagi Andari yg Punya ansur...</td>\n",
       "    </tr>\n",
       "  </tbody>\n",
       "</table>\n",
       "</div>"
      ],
      "text/plain": [
       "       ID              tanggal  \\\n",
       "0  238057  2020-07-13 00:00:00   \n",
       "1  238158  2020-07-06 00:00:00   \n",
       "2  238865  2020-04-22 00:00:00   \n",
       "3  248298  2019-10-22 00:00:00   \n",
       "4  255176  2020-05-01 00:00:00   \n",
       "\n",
       "                                               judul  \\\n",
       "0  Narasi Tito Karnavian Berideologi Komunis Kare...   \n",
       "1  Anies: Seberat beratnya Pekerjaan Akan terasa ...   \n",
       "2  Hindu di india Melemparkan Patung Buatan Merek...   \n",
       "3  RSCM Praktekkan Penyedotan Plug  Vena/Saluran ...   \n",
       "4             Permohonan Kelonggaran Angsuran ke OJK   \n",
       "\n",
       "                                              narasi nama file gambar  \\\n",
       "0  TITO KARNIVAN ITU BERIDIOLOGI KOMUNIS DIA BISA...       238057.jpg   \n",
       "1  Seberat beratnya Pekerjaan Akan terasa ringan ...       238158.jpg   \n",
       "2  Hindu di india melemparkan patung buatan merek...       238865.jpg   \n",
       "3  Mulai Hari ini di RSCM mulai diPraktekkan Peny...       248298.jpg   \n",
       "4  Untuk sekedar info, Bagi anda yg punya ansuran...       255176.jpg   \n",
       "\n",
       "                                     judul_translate  \\\n",
       "0  Narasi Tito Karnavian Berideologi Komunis KARE...   \n",
       "1  Anies: seberat beratnya Pekerjaan Akan terasa ...   \n",
       "2  Hindu di india Melemparkan Patung Buatan Merek...   \n",
       "3  RSCM praktekkan penyedotan Plug Vena / Saluran...   \n",
       "4             Permohonan Kelonggaran Angsuran Ke OJK   \n",
       "\n",
       "                                    narasi_translate  \n",
       "0  TITO KARNIVAN ITU beridiologi Komunis DIA BISA...  \n",
       "1  Seberat beratnya Pekerjaan Akan terasa Anda Ri...  \n",
       "2  Hindu di india melemparkan patung Buatan merek...  \n",
       "3  Mulai Hari Penyanyi di RSCM Mulai diPraktekkan...  \n",
       "4  Untuk Sekedar info, Bagi Andari yg Punya ansur...  "
      ]
     },
     "execution_count": 7,
     "metadata": {},
     "output_type": "execute_result"
    }
   ],
   "source": [
    "# read test dataset\n",
    "df_test = pd.read_excel(\"../data/testing/DataUji.xlsx\", engine=\"openpyxl\", dtype=str)\n",
    "df_test.head()"
   ]
  },
  {
   "cell_type": "code",
   "execution_count": 8,
   "id": "unauthorized-triangle",
   "metadata": {},
   "outputs": [
    {
     "name": "stdout",
     "output_type": "stream",
     "text": [
      "Found 3377 validated image filenames belonging to 2 classes.\n",
      "Found 844 validated image filenames belonging to 2 classes.\n"
     ]
    },
    {
     "name": "stderr",
     "output_type": "stream",
     "text": [
      "/home/prinanda/anaconda3/envs/deep/lib/python3.7/site-packages/keras_preprocessing/image/dataframe_iterator.py:273: UserWarning: Found 10 invalid image filename(s) in x_col=\"nama file gambar\". These filename(s) will be ignored.\n",
      "  .format(n_invalid, x_col)\n",
      "/home/prinanda/anaconda3/envs/deep/lib/python3.7/site-packages/keras_preprocessing/image/dataframe_iterator.py:273: UserWarning: Found 10 invalid image filename(s) in x_col=\"nama file gambar\". These filename(s) will be ignored.\n",
      "  .format(n_invalid, x_col)\n"
     ]
    }
   ],
   "source": [
    "# READ TRAIN AND TEST DATA\n",
    "train_dataset, validation_dataset = optimize_aug_train_data(df_train, BS)\n",
    "# X_test, y_test, le_test = test_data(testing_dataset)"
   ]
  },
  {
   "cell_type": "markdown",
   "id": "proud-acrylic",
   "metadata": {},
   "source": [
    "## BUILD AND TRAIN MODEL"
   ]
  },
  {
   "cell_type": "code",
   "execution_count": 9,
   "id": "chubby-sodium",
   "metadata": {},
   "outputs": [],
   "source": [
    "from tensorflow.keras.backend import clear_session\n",
    "clear_session()"
   ]
  },
  {
   "cell_type": "code",
   "execution_count": 10,
   "id": "mysterious-assault",
   "metadata": {},
   "outputs": [
    {
     "name": "stdout",
     "output_type": "stream",
     "text": [
      "Model: \"sequential\"\n",
      "_________________________________________________________________\n",
      "Layer (type)                 Output Shape              Param #   \n",
      "=================================================================\n",
      "zero_padding2d (ZeroPadding2 (None, 226, 226, 3)       0         \n",
      "_________________________________________________________________\n",
      "conv2d (Conv2D)              (None, 224, 224, 16)      448       \n",
      "_________________________________________________________________\n",
      "max_pooling2d (MaxPooling2D) (None, 112, 112, 16)      0         \n",
      "_________________________________________________________________\n",
      "dropout (Dropout)            (None, 112, 112, 16)      0         \n",
      "_________________________________________________________________\n",
      "flatten (Flatten)            (None, 200704)            0         \n",
      "_________________________________________________________________\n",
      "dense (Dense)                (None, 8)                 1605640   \n",
      "_________________________________________________________________\n",
      "dense_1 (Dense)              (None, 1)                 9         \n",
      "=================================================================\n",
      "Total params: 1,606,097\n",
      "Trainable params: 1,606,097\n",
      "Non-trainable params: 0\n",
      "_________________________________________________________________\n"
     ]
    }
   ],
   "source": [
    "# DEFINE MODEL\n",
    "model = Sequential()\n",
    "model.add(ZeroPadding2D((1, 1), input_shape=(224, 224, 3)))\n",
    "model.add(Convolution2D(16, (3, 3), activation='relu'))\n",
    "model.add(MaxPooling2D((2, 2), strides=(2, 2)))\n",
    "model.add(Dropout(0.50))\n",
    "\n",
    "model.add(Flatten())\n",
    "model.add(Dense(8, activation=\"relu\"))\n",
    "\n",
    "# output layer \n",
    "model.add(Dense(1, activation=\"sigmoid\"))\n",
    "# SUMMARY MODEL\n",
    "model.summary()"
   ]
  },
  {
   "cell_type": "code",
   "execution_count": 11,
   "id": "difficult-lexington",
   "metadata": {},
   "outputs": [],
   "source": [
    "# COMPILE MODEL\n",
    "adam = Adam(learning_rate=LEARNING_RATE)\n",
    "model.compile(optimizer=adam, loss='binary_crossentropy',\n",
    "              metrics=['accuracy'])\n",
    "\n",
    "# Initiate Callbacks\n",
    "my_callbacks = my_callbacks(EPOCHS, BS)"
   ]
  },
  {
   "cell_type": "code",
   "execution_count": null,
   "id": "stock-alabama",
   "metadata": {},
   "outputs": [],
   "source": [
    "# Initiate start time\n",
    "start_time = time.time()\n",
    "\n",
    "# TRAIN MODEL\n",
    "Historia = model.fit(train_dataset, validation_data=validation_dataset,callbacks=my_callbacks, epochs=EPOCHS, batch_size=BS)\n",
    "\n",
    "# end time\n",
    "print(\"--- %s seconds ---\" % (time.time() - start_time))"
   ]
  },
  {
   "cell_type": "markdown",
   "id": "musical-validity",
   "metadata": {},
   "source": [
    "## EVALUATE MODEL"
   ]
  },
  {
   "cell_type": "code",
   "execution_count": null,
   "id": "scheduled-commander",
   "metadata": {},
   "outputs": [],
   "source": [
    "model = load_my_model(EPOCHS, BS)\n",
    "\n",
    "loss0, acc0 = model.evaluate(train_dataset)\n",
    "print(loss0, acc0)\n",
    "\n",
    "loss1, acc1 = model.evaluate(validation_dataset)\n",
    "print(loss1, acc1)"
   ]
  },
  {
   "cell_type": "code",
   "execution_count": null,
   "id": "constant-lotus",
   "metadata": {},
   "outputs": [],
   "source": [
    "predictions = np.round(model.predict(validation_dataset))\n",
    "tes = validation_dataset.classes"
   ]
  },
  {
   "cell_type": "code",
   "execution_count": null,
   "id": "cultural-inspiration",
   "metadata": {},
   "outputs": [],
   "source": [
    "# Print classification report\n",
    "print_class_reports(tes, predictions, validation_dataset.class_indices, EPOCHS, BS)"
   ]
  },
  {
   "cell_type": "code",
   "execution_count": null,
   "id": "desperate-disclosure",
   "metadata": {},
   "outputs": [],
   "source": [
    "# print confusion matrix\n",
    "print_conf_matrix(tes, predictions, validation_dataset.class_indices, EPOCHS, BS)"
   ]
  },
  {
   "cell_type": "markdown",
   "id": "satellite-chuck",
   "metadata": {},
   "source": [
    "## OBSERVE MODEL"
   ]
  },
  {
   "cell_type": "code",
   "execution_count": null,
   "id": "usual-generator",
   "metadata": {},
   "outputs": [],
   "source": [
    "# accuracy\n",
    "visualize_accuracy(Historia, EPOCHS, BS)"
   ]
  },
  {
   "cell_type": "code",
   "execution_count": null,
   "id": "regulated-pregnancy",
   "metadata": {},
   "outputs": [],
   "source": [
    "# loss\n",
    "visualize_loss(Historia, EPOCHS, BS)"
   ]
  },
  {
   "cell_type": "markdown",
   "id": "horizontal-journey",
   "metadata": {},
   "source": [
    "## SAVE RESULT TO CSV"
   ]
  },
  {
   "cell_type": "code",
   "execution_count": null,
   "id": "hourly-burning",
   "metadata": {},
   "outputs": [],
   "source": [
    "predictions_cnn = [int(y[0]) for y in np.round(model.predict(test_dataset))]\n",
    "results_cnn = pd.DataFrame(zip(df_test[\"ID\"], predictions_cnn), columns=[\"ID\",\"Prediksi\"])\n",
    "results_cnn.to_csv(\"../result/neural_network/results_cnn.csv\", index=False)"
   ]
  }
 ],
 "metadata": {
  "kernelspec": {
   "display_name": "Python 3",
   "language": "python",
   "name": "python3"
  },
  "language_info": {
   "codemirror_mode": {
    "name": "ipython",
    "version": 3
   },
   "file_extension": ".py",
   "mimetype": "text/x-python",
   "name": "python",
   "nbconvert_exporter": "python",
   "pygments_lexer": "ipython3",
   "version": "3.7.9"
  }
 },
 "nbformat": 4,
 "nbformat_minor": 5
}
